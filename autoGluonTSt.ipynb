{
 "cells": [
  {
   "cell_type": "code",
   "execution_count": 1,
   "metadata": {
    "collapsed": true
   },
   "outputs": [
    {
     "name": "stderr",
     "output_type": "stream",
     "text": [
      "/Users/erahkee/Library/Python/3.9/lib/python/site-packages/gluonts/json.py:101: UserWarning: Using `json`-module for json-handling. Consider installing one of `orjson`, `ujson` to speed up serialization and deserialization.\n",
      "  warnings.warn(\n"
     ]
    }
   ],
   "source": [
    "import pandas as pd\n",
    "from pytiingo import RESTClient\n",
    "from dotenv import load_dotenv\n",
    "from datetime import datetime, timedelta\n",
    "import os\n",
    "from math import nan\n",
    "import time\n",
    "load_dotenv()\n",
    "from autogluon.timeseries import TimeSeriesDataFrame, TimeSeriesPredictor"
   ]
  },
  {
   "cell_type": "code",
   "execution_count": 2,
   "outputs": [],
   "source": [
    "# Statistical indicators\n",
    "\n",
    "def calc_parabolic_sar(df: pd.DataFrame, af=0.2, steps=10):\n",
    "    up = True\n",
    "    sars = [nan] * len(df)\n",
    "    sar = ep_lo = df.Low.iloc[0]\n",
    "    ep = ep_hi = df.High.iloc[0]\n",
    "    aaf = af\n",
    "    aaf_step = aaf / steps\n",
    "    af = 0\n",
    "    for i, (hi, lo) in enumerate(zip(df.high, df.low)):\n",
    "        # parabolic sar formula:\n",
    "        sar = sar + af * (ep - sar)\n",
    "        # handle new extreme points\n",
    "        if hi > ep_hi:\n",
    "            ep_hi = hi\n",
    "            if up:\n",
    "                ep = ep_hi\n",
    "                af = min(aaf, af + aaf_step)\n",
    "        elif lo < ep_lo:\n",
    "            ep_lo = lo\n",
    "            if not up:\n",
    "                ep = ep_lo\n",
    "                af = min(aaf, af + aaf_step)\n",
    "        # handle switch\n",
    "        if up:\n",
    "            if lo < sar:\n",
    "                up = not up\n",
    "                sar = ep_hi\n",
    "                ep = ep_lo = lo\n",
    "                af = 0\n",
    "        else:\n",
    "            if hi > sar:\n",
    "                up = not up\n",
    "                sar = ep_lo\n",
    "                ep = ep_hi = hi\n",
    "                af = 0\n",
    "        sars[i] = sar\n",
    "    df['sar'] = sars\n",
    "    return sar\n",
    "\n",
    "\n",
    "def calc_macd(df: pd.DataFrame, fm_span=12, sm_span=26, span=9):\n",
    "    # plot macd with standard colors first\n",
    "    macd = df.close.ewm(fm_span).mean() - df.close.ewm(sm_span).mean()\n",
    "    df['macd_signal'] = macd.ewm(span).mean()\n",
    "    df['macd_diff'] = macd - df['macd_signal']\n",
    "    macd_diff = df['macd_diff']\n",
    "    macd_signal = df['macd_signal']\n",
    "    return macd, macd_signal, macd_diff  # pd.DataFrame(df, columns=['macd', 'macd_signal', 'macd_diff'])\n",
    "\n",
    "\n",
    "def calc_rsi(price, n=14, ax=None):\n",
    "    diff = price.diff().values\n",
    "    gains = diff\n",
    "    losses = -diff\n",
    "    gains[~(gains > 0)] = 0.0\n",
    "    losses[~(losses > 0)] = 1e-10  # we don't want divide by zero/NaN\n",
    "    m = (n - 1) / n\n",
    "    ni = 1 / n\n",
    "    g = gains[n] = gains[:n].mean()\n",
    "    l = losses[n] = losses[:n].mean()\n",
    "    gains[:n] = losses[:n] = nan\n",
    "    for i, v in enumerate(gains[n:], n):\n",
    "        g = gains[i] = ni * v + m * g\n",
    "    for i, v in enumerate(losses[n:], n):\n",
    "        l = losses[i] = ni * v + m * l\n",
    "    rs = gains / losses\n",
    "    rsi = 100 - (100 / (1 + rs))\n",
    "    return rsi  # pd.DataFrame(df, columns=['rsi'])\n",
    "\n",
    "\n",
    "def calc_stochastic_oscillator(df: pd.DataFrame, n=14, m=3, smooth=3):\n",
    "    lo = df.low.rolling(n).min()\n",
    "    hi = df.high.rolling(n).max()\n",
    "    k = 100 * (df.close - lo) / (hi - lo)\n",
    "    d = k.rolling(m).mean()\n",
    "    return k,d  # pd.DataFrame(df, columns=['k', 'd'])"
   ],
   "metadata": {
    "collapsed": false
   }
  },
  {
   "cell_type": "code",
   "execution_count": 3,
   "outputs": [],
   "source": [
    "# Params\n",
    "\n",
    "# Store API key in `.env` next to this file in the format API_TOKEN=ac8cb618...\n",
    "my_token = os.environ.get(\"MY_TOKEN\")\n",
    "symbol = os.environ.get('SYMBOL')\n",
    "symbols = os.environ.get('SYMBOLS')\n",
    "freq = os.environ.get('FREQUENCY')\n",
    "now = datetime.utcnow()\n",
    "start_date = datetime.utcnow() - timedelta(days=100)\n",
    "start_date = str(start_date.strftime('%Y-%m-%d'))"
   ],
   "metadata": {
    "collapsed": false
   }
  },
  {
   "cell_type": "code",
   "execution_count": 4,
   "outputs": [
    {
     "name": "stderr",
     "output_type": "stream",
     "text": [
      "/var/folders/ml/j_5frbzj7x71jdzzvp53_bzc0000gp/T/ipykernel_69657/3225987106.py:5: FutureWarning: Using .astype to convert from timezone-aware dtype to timezone-naive dtype is deprecated and will raise in a future version.  Use obj.tz_localize(None) or obj.tz_convert('UTC').tz_localize(None) instead\n",
      "  df['date'] = df['date'].astype('datetime64[ns]')\n"
     ]
    }
   ],
   "source": [
    "client = RESTClient(token=f'{my_token}', output_format='pandas')\n",
    "# for symbol in symbols:\n",
    "df = client.iex.get_prices(ticker=symbol.lower(), startDate=start_date, resampleFreq=freq)\n",
    "df['date'] = pd.to_datetime(df['date'], utc=True)\n",
    "df['date'] = df['date'].astype('datetime64[ns]')\n",
    "date = df['date']\n",
    "#df['date'] = df['date'].strftime('%Y-%m-%d %H:%M:%S.%fZ')  # Req. format\n",
    "# date = date.strftime('%Y-%m-%dT%H:%M:%S.%fZ')\n",
    "df['symbol'] = symbol\n",
    "df.set_index(\"date\", inplace=False)\n",
    "# df = df.rename(columns={\n",
    "#     \"date\": \"timestamp\"\n",
    "# })\n",
    "\n",
    "low = df['low']\n",
    "high = df['high']\n",
    "close = df['close']\n",
    "price = df['open close high low'.split()]\n",
    "volume = df['open close volume'.split()]\n",
    "ma50 = ma200 = vema24 = sar = rsi = stoch = stoch_s = macd = macd_signal = macd_diff = None"
   ],
   "metadata": {
    "collapsed": false
   }
  },
  {
   "cell_type": "code",
   "execution_count": 5,
   "outputs": [],
   "source": [
    "\n",
    "ma50 = df['ma50']= df.close.rolling(50).mean()\n",
    "ma200 = df['ma200'] = df.close.rolling(200).mean()\n",
    "vema24 = df['vema24'] = df.volume.ewm(span=24).mean()\n",
    "\n",
    "macd, macd_signal, macd_diff = calc_macd(df)\n",
    "k, d = calc_stochastic_oscillator(df)\n",
    "rsi = calc_rsi(df.close)\n",
    "df['macd'] = macd\n",
    "df['macd_signal'] = macd_signal\n",
    "df['macd_diff'] = macd_diff\n",
    "df['k'] = k\n",
    "df['d'] = d\n",
    "df['rsi'] =rsi\n"
   ],
   "metadata": {
    "collapsed": false
   }
  },
  {
   "cell_type": "code",
   "execution_count": 6,
   "outputs": [
    {
     "data": {
      "text/plain": "                    date   close    high     low    open   volume symbol  \\\n1911 2022-12-05 19:45:00  10.085  10.115  10.060  10.090  10286.0   SNAP   \n1912 2022-12-05 20:00:00  10.050  10.140  10.035  10.085  20971.0   SNAP   \n1913 2022-12-05 20:15:00  10.055  10.070  10.035  10.050  27479.0   SNAP   \n1914 2022-12-05 20:30:00  10.085  10.115  10.055  10.055  24172.0   SNAP   \n1915 2022-12-05 20:45:00  10.110  10.115  10.060  10.085  69066.0   SNAP   \n\n         ma50      ma200        vema24  macd_signal  macd_diff      macd  \\\n1911  10.4126  10.207850  12192.257387    -0.051496  -0.046792 -0.098288   \n1912  10.3960  10.206475  12894.556796    -0.056578  -0.045741 -0.102319   \n1913  10.3861  10.205125  14061.312252    -0.061461  -0.043950 -0.105412   \n1914  10.3781  10.203925  14870.167272    -0.065982  -0.040682 -0.106664   \n1915  10.3662  10.202850  19205.833890    -0.070031  -0.036445 -0.106476   \n\n              k          d        rsi  \n1911  12.000000  10.982392  26.743292  \n1912   5.555556   9.130540  24.397075  \n1913   8.163265   8.572940  25.403905  \n1914  20.408163  11.375661  31.314339  \n1915  34.883721  21.151717  35.874082  ",
      "text/html": "<div>\n<style scoped>\n    .dataframe tbody tr th:only-of-type {\n        vertical-align: middle;\n    }\n\n    .dataframe tbody tr th {\n        vertical-align: top;\n    }\n\n    .dataframe thead th {\n        text-align: right;\n    }\n</style>\n<table border=\"1\" class=\"dataframe\">\n  <thead>\n    <tr style=\"text-align: right;\">\n      <th></th>\n      <th>date</th>\n      <th>close</th>\n      <th>high</th>\n      <th>low</th>\n      <th>open</th>\n      <th>volume</th>\n      <th>symbol</th>\n      <th>ma50</th>\n      <th>ma200</th>\n      <th>vema24</th>\n      <th>macd_signal</th>\n      <th>macd_diff</th>\n      <th>macd</th>\n      <th>k</th>\n      <th>d</th>\n      <th>rsi</th>\n    </tr>\n  </thead>\n  <tbody>\n    <tr>\n      <th>1911</th>\n      <td>2022-12-05 19:45:00</td>\n      <td>10.085</td>\n      <td>10.115</td>\n      <td>10.060</td>\n      <td>10.090</td>\n      <td>10286.0</td>\n      <td>SNAP</td>\n      <td>10.4126</td>\n      <td>10.207850</td>\n      <td>12192.257387</td>\n      <td>-0.051496</td>\n      <td>-0.046792</td>\n      <td>-0.098288</td>\n      <td>12.000000</td>\n      <td>10.982392</td>\n      <td>26.743292</td>\n    </tr>\n    <tr>\n      <th>1912</th>\n      <td>2022-12-05 20:00:00</td>\n      <td>10.050</td>\n      <td>10.140</td>\n      <td>10.035</td>\n      <td>10.085</td>\n      <td>20971.0</td>\n      <td>SNAP</td>\n      <td>10.3960</td>\n      <td>10.206475</td>\n      <td>12894.556796</td>\n      <td>-0.056578</td>\n      <td>-0.045741</td>\n      <td>-0.102319</td>\n      <td>5.555556</td>\n      <td>9.130540</td>\n      <td>24.397075</td>\n    </tr>\n    <tr>\n      <th>1913</th>\n      <td>2022-12-05 20:15:00</td>\n      <td>10.055</td>\n      <td>10.070</td>\n      <td>10.035</td>\n      <td>10.050</td>\n      <td>27479.0</td>\n      <td>SNAP</td>\n      <td>10.3861</td>\n      <td>10.205125</td>\n      <td>14061.312252</td>\n      <td>-0.061461</td>\n      <td>-0.043950</td>\n      <td>-0.105412</td>\n      <td>8.163265</td>\n      <td>8.572940</td>\n      <td>25.403905</td>\n    </tr>\n    <tr>\n      <th>1914</th>\n      <td>2022-12-05 20:30:00</td>\n      <td>10.085</td>\n      <td>10.115</td>\n      <td>10.055</td>\n      <td>10.055</td>\n      <td>24172.0</td>\n      <td>SNAP</td>\n      <td>10.3781</td>\n      <td>10.203925</td>\n      <td>14870.167272</td>\n      <td>-0.065982</td>\n      <td>-0.040682</td>\n      <td>-0.106664</td>\n      <td>20.408163</td>\n      <td>11.375661</td>\n      <td>31.314339</td>\n    </tr>\n    <tr>\n      <th>1915</th>\n      <td>2022-12-05 20:45:00</td>\n      <td>10.110</td>\n      <td>10.115</td>\n      <td>10.060</td>\n      <td>10.085</td>\n      <td>69066.0</td>\n      <td>SNAP</td>\n      <td>10.3662</td>\n      <td>10.202850</td>\n      <td>19205.833890</td>\n      <td>-0.070031</td>\n      <td>-0.036445</td>\n      <td>-0.106476</td>\n      <td>34.883721</td>\n      <td>21.151717</td>\n      <td>35.874082</td>\n    </tr>\n  </tbody>\n</table>\n</div>"
     },
     "execution_count": 6,
     "metadata": {},
     "output_type": "execute_result"
    }
   ],
   "source": [
    "df.tail()"
   ],
   "metadata": {
    "collapsed": false
   }
  },
  {
   "cell_type": "code",
   "execution_count": 15,
   "outputs": [],
   "source": [
    "idx = pd.period_range(start=min(df.date), end=max(df.date))\n",
    "df.set_index('date').reindex(idx).fillna(0.0).rename_axis('date').reset_index()\n",
    "df.fillna(method = 'ffill', inplace = True)\n",
    "\n"
   ],
   "metadata": {
    "collapsed": false
   }
  },
  {
   "cell_type": "code",
   "execution_count": 16,
   "outputs": [
    {
     "data": {
      "text/plain": "                       date   close    high     low    open   volume symbol  \\\nitem_id                                                                       \n0       2022-08-29 13:30:00  10.675  10.830  10.475  10.475  28573.0   SNAP   \n1       2022-08-29 13:45:00  10.650  10.765  10.570  10.675  27295.0   SNAP   \n2       2022-08-29 14:00:00  10.605  10.695  10.570  10.650  50528.0   SNAP   \n3       2022-08-29 14:15:00  10.600  10.695  10.590  10.605  29323.0   SNAP   \n4       2022-08-29 14:30:00  10.515  10.680  10.475  10.600  21444.0   SNAP   \n\n         ma50  ma200        vema24  macd_signal  macd_diff      macd   k   d  \\\nitem_id                                                                        \n0         NaN    NaN  28573.000000     0.000000   0.000000  0.000000 NaN NaN   \n1         NaN    NaN  27907.375000    -0.000139  -0.000125 -0.000264 NaN NaN   \n2         NaN    NaN  36084.292655    -0.000453  -0.000537 -0.000991 NaN NaN   \n3         NaN    NaN  34177.064215    -0.000732  -0.000679 -0.001411 NaN NaN   \n4         NaN    NaN  31189.120743    -0.001324  -0.001833 -0.003156 NaN NaN   \n\n         rsi  \nitem_id       \n0        NaN  \n1        NaN  \n2        NaN  \n3        NaN  \n4        NaN  ",
      "text/html": "<div>\n<style scoped>\n    .dataframe tbody tr th:only-of-type {\n        vertical-align: middle;\n    }\n\n    .dataframe tbody tr th {\n        vertical-align: top;\n    }\n\n    .dataframe thead th {\n        text-align: right;\n    }\n</style>\n<table border=\"1\" class=\"dataframe\">\n  <thead>\n    <tr style=\"text-align: right;\">\n      <th></th>\n      <th>date</th>\n      <th>close</th>\n      <th>high</th>\n      <th>low</th>\n      <th>open</th>\n      <th>volume</th>\n      <th>symbol</th>\n      <th>ma50</th>\n      <th>ma200</th>\n      <th>vema24</th>\n      <th>macd_signal</th>\n      <th>macd_diff</th>\n      <th>macd</th>\n      <th>k</th>\n      <th>d</th>\n      <th>rsi</th>\n    </tr>\n    <tr>\n      <th>item_id</th>\n      <th></th>\n      <th></th>\n      <th></th>\n      <th></th>\n      <th></th>\n      <th></th>\n      <th></th>\n      <th></th>\n      <th></th>\n      <th></th>\n      <th></th>\n      <th></th>\n      <th></th>\n      <th></th>\n      <th></th>\n      <th></th>\n    </tr>\n  </thead>\n  <tbody>\n    <tr>\n      <th>0</th>\n      <td>2022-08-29 13:30:00</td>\n      <td>10.675</td>\n      <td>10.830</td>\n      <td>10.475</td>\n      <td>10.475</td>\n      <td>28573.0</td>\n      <td>SNAP</td>\n      <td>NaN</td>\n      <td>NaN</td>\n      <td>28573.000000</td>\n      <td>0.000000</td>\n      <td>0.000000</td>\n      <td>0.000000</td>\n      <td>NaN</td>\n      <td>NaN</td>\n      <td>NaN</td>\n    </tr>\n    <tr>\n      <th>1</th>\n      <td>2022-08-29 13:45:00</td>\n      <td>10.650</td>\n      <td>10.765</td>\n      <td>10.570</td>\n      <td>10.675</td>\n      <td>27295.0</td>\n      <td>SNAP</td>\n      <td>NaN</td>\n      <td>NaN</td>\n      <td>27907.375000</td>\n      <td>-0.000139</td>\n      <td>-0.000125</td>\n      <td>-0.000264</td>\n      <td>NaN</td>\n      <td>NaN</td>\n      <td>NaN</td>\n    </tr>\n    <tr>\n      <th>2</th>\n      <td>2022-08-29 14:00:00</td>\n      <td>10.605</td>\n      <td>10.695</td>\n      <td>10.570</td>\n      <td>10.650</td>\n      <td>50528.0</td>\n      <td>SNAP</td>\n      <td>NaN</td>\n      <td>NaN</td>\n      <td>36084.292655</td>\n      <td>-0.000453</td>\n      <td>-0.000537</td>\n      <td>-0.000991</td>\n      <td>NaN</td>\n      <td>NaN</td>\n      <td>NaN</td>\n    </tr>\n    <tr>\n      <th>3</th>\n      <td>2022-08-29 14:15:00</td>\n      <td>10.600</td>\n      <td>10.695</td>\n      <td>10.590</td>\n      <td>10.605</td>\n      <td>29323.0</td>\n      <td>SNAP</td>\n      <td>NaN</td>\n      <td>NaN</td>\n      <td>34177.064215</td>\n      <td>-0.000732</td>\n      <td>-0.000679</td>\n      <td>-0.001411</td>\n      <td>NaN</td>\n      <td>NaN</td>\n      <td>NaN</td>\n    </tr>\n    <tr>\n      <th>4</th>\n      <td>2022-08-29 14:30:00</td>\n      <td>10.515</td>\n      <td>10.680</td>\n      <td>10.475</td>\n      <td>10.600</td>\n      <td>21444.0</td>\n      <td>SNAP</td>\n      <td>NaN</td>\n      <td>NaN</td>\n      <td>31189.120743</td>\n      <td>-0.001324</td>\n      <td>-0.001833</td>\n      <td>-0.003156</td>\n      <td>NaN</td>\n      <td>NaN</td>\n      <td>NaN</td>\n    </tr>\n  </tbody>\n</table>\n</div>"
     },
     "execution_count": 16,
     "metadata": {},
     "output_type": "execute_result"
    }
   ],
   "source": [
    "df.head()"
   ],
   "metadata": {
    "collapsed": false
   }
  },
  {
   "cell_type": "code",
   "execution_count": 9,
   "outputs": [
    {
     "data": {
      "text/plain": "                    date   close    high     low    open   volume symbol  \\\n1911 2022-12-05 19:45:00  10.085  10.115  10.060  10.090  10286.0   SNAP   \n1912 2022-12-05 20:00:00  10.050  10.140  10.035  10.085  20971.0   SNAP   \n1913 2022-12-05 20:15:00  10.055  10.070  10.035  10.050  27479.0   SNAP   \n1914 2022-12-05 20:30:00  10.085  10.115  10.055  10.055  24172.0   SNAP   \n1915 2022-12-05 20:45:00  10.110  10.115  10.060  10.085  69066.0   SNAP   \n\n         ma50      ma200        vema24  macd_signal  macd_diff      macd  \\\n1911  10.4126  10.207850  12192.257387    -0.051496  -0.046792 -0.098288   \n1912  10.3960  10.206475  12894.556796    -0.056578  -0.045741 -0.102319   \n1913  10.3861  10.205125  14061.312252    -0.061461  -0.043950 -0.105412   \n1914  10.3781  10.203925  14870.167272    -0.065982  -0.040682 -0.106664   \n1915  10.3662  10.202850  19205.833890    -0.070031  -0.036445 -0.106476   \n\n              k          d        rsi  \n1911  12.000000  10.982392  26.743292  \n1912   5.555556   9.130540  24.397075  \n1913   8.163265   8.572940  25.403905  \n1914  20.408163  11.375661  31.314339  \n1915  34.883721  21.151717  35.874082  ",
      "text/html": "<div>\n<style scoped>\n    .dataframe tbody tr th:only-of-type {\n        vertical-align: middle;\n    }\n\n    .dataframe tbody tr th {\n        vertical-align: top;\n    }\n\n    .dataframe thead th {\n        text-align: right;\n    }\n</style>\n<table border=\"1\" class=\"dataframe\">\n  <thead>\n    <tr style=\"text-align: right;\">\n      <th></th>\n      <th>date</th>\n      <th>close</th>\n      <th>high</th>\n      <th>low</th>\n      <th>open</th>\n      <th>volume</th>\n      <th>symbol</th>\n      <th>ma50</th>\n      <th>ma200</th>\n      <th>vema24</th>\n      <th>macd_signal</th>\n      <th>macd_diff</th>\n      <th>macd</th>\n      <th>k</th>\n      <th>d</th>\n      <th>rsi</th>\n    </tr>\n  </thead>\n  <tbody>\n    <tr>\n      <th>1911</th>\n      <td>2022-12-05 19:45:00</td>\n      <td>10.085</td>\n      <td>10.115</td>\n      <td>10.060</td>\n      <td>10.090</td>\n      <td>10286.0</td>\n      <td>SNAP</td>\n      <td>10.4126</td>\n      <td>10.207850</td>\n      <td>12192.257387</td>\n      <td>-0.051496</td>\n      <td>-0.046792</td>\n      <td>-0.098288</td>\n      <td>12.000000</td>\n      <td>10.982392</td>\n      <td>26.743292</td>\n    </tr>\n    <tr>\n      <th>1912</th>\n      <td>2022-12-05 20:00:00</td>\n      <td>10.050</td>\n      <td>10.140</td>\n      <td>10.035</td>\n      <td>10.085</td>\n      <td>20971.0</td>\n      <td>SNAP</td>\n      <td>10.3960</td>\n      <td>10.206475</td>\n      <td>12894.556796</td>\n      <td>-0.056578</td>\n      <td>-0.045741</td>\n      <td>-0.102319</td>\n      <td>5.555556</td>\n      <td>9.130540</td>\n      <td>24.397075</td>\n    </tr>\n    <tr>\n      <th>1913</th>\n      <td>2022-12-05 20:15:00</td>\n      <td>10.055</td>\n      <td>10.070</td>\n      <td>10.035</td>\n      <td>10.050</td>\n      <td>27479.0</td>\n      <td>SNAP</td>\n      <td>10.3861</td>\n      <td>10.205125</td>\n      <td>14061.312252</td>\n      <td>-0.061461</td>\n      <td>-0.043950</td>\n      <td>-0.105412</td>\n      <td>8.163265</td>\n      <td>8.572940</td>\n      <td>25.403905</td>\n    </tr>\n    <tr>\n      <th>1914</th>\n      <td>2022-12-05 20:30:00</td>\n      <td>10.085</td>\n      <td>10.115</td>\n      <td>10.055</td>\n      <td>10.055</td>\n      <td>24172.0</td>\n      <td>SNAP</td>\n      <td>10.3781</td>\n      <td>10.203925</td>\n      <td>14870.167272</td>\n      <td>-0.065982</td>\n      <td>-0.040682</td>\n      <td>-0.106664</td>\n      <td>20.408163</td>\n      <td>11.375661</td>\n      <td>31.314339</td>\n    </tr>\n    <tr>\n      <th>1915</th>\n      <td>2022-12-05 20:45:00</td>\n      <td>10.110</td>\n      <td>10.115</td>\n      <td>10.060</td>\n      <td>10.085</td>\n      <td>69066.0</td>\n      <td>SNAP</td>\n      <td>10.3662</td>\n      <td>10.202850</td>\n      <td>19205.833890</td>\n      <td>-0.070031</td>\n      <td>-0.036445</td>\n      <td>-0.106476</td>\n      <td>34.883721</td>\n      <td>21.151717</td>\n      <td>35.874082</td>\n    </tr>\n  </tbody>\n</table>\n</div>"
     },
     "execution_count": 9,
     "metadata": {},
     "output_type": "execute_result"
    }
   ],
   "source": [
    "df.tail()"
   ],
   "metadata": {
    "collapsed": false
   }
  },
  {
   "cell_type": "code",
   "execution_count": 10,
   "outputs": [
    {
     "data": {
      "text/plain": "                              close    high     low    open   volume     ma50  \\\nitem_id timestamp                                                               \nSNAP    2022-08-29 13:30:00  10.675  10.830  10.475  10.475  28573.0      NaN   \n        2022-08-29 13:45:00  10.650  10.765  10.570  10.675  27295.0      NaN   \n        2022-08-29 14:00:00  10.605  10.695  10.570  10.650  50528.0      NaN   \n        2022-08-29 14:15:00  10.600  10.695  10.590  10.605  29323.0      NaN   \n        2022-08-29 14:30:00  10.515  10.680  10.475  10.600  21444.0      NaN   \n...                             ...     ...     ...     ...      ...      ...   \n        2022-12-05 19:45:00  10.085  10.115  10.060  10.090  10286.0  10.4126   \n        2022-12-05 20:00:00  10.050  10.140  10.035  10.085  20971.0  10.3960   \n        2022-12-05 20:15:00  10.055  10.070  10.035  10.050  27479.0  10.3861   \n        2022-12-05 20:30:00  10.085  10.115  10.055  10.055  24172.0  10.3781   \n        2022-12-05 20:45:00  10.110  10.115  10.060  10.085  69066.0  10.3662   \n\n                                 ma200        vema24  macd_signal  macd_diff  \\\nitem_id timestamp                                                              \nSNAP    2022-08-29 13:30:00        NaN  28573.000000     0.000000   0.000000   \n        2022-08-29 13:45:00        NaN  27907.375000    -0.000139  -0.000125   \n        2022-08-29 14:00:00        NaN  36084.292655    -0.000453  -0.000537   \n        2022-08-29 14:15:00        NaN  34177.064215    -0.000732  -0.000679   \n        2022-08-29 14:30:00        NaN  31189.120743    -0.001324  -0.001833   \n...                                ...           ...          ...        ...   \n        2022-12-05 19:45:00  10.207850  12192.257387    -0.051496  -0.046792   \n        2022-12-05 20:00:00  10.206475  12894.556796    -0.056578  -0.045741   \n        2022-12-05 20:15:00  10.205125  14061.312252    -0.061461  -0.043950   \n        2022-12-05 20:30:00  10.203925  14870.167272    -0.065982  -0.040682   \n        2022-12-05 20:45:00  10.202850  19205.833890    -0.070031  -0.036445   \n\n                                 macd          k          d        rsi  \nitem_id timestamp                                                       \nSNAP    2022-08-29 13:30:00  0.000000        NaN        NaN        NaN  \n        2022-08-29 13:45:00 -0.000264        NaN        NaN        NaN  \n        2022-08-29 14:00:00 -0.000991        NaN        NaN        NaN  \n        2022-08-29 14:15:00 -0.001411        NaN        NaN        NaN  \n        2022-08-29 14:30:00 -0.003156        NaN        NaN        NaN  \n...                               ...        ...        ...        ...  \n        2022-12-05 19:45:00 -0.098288  12.000000  10.982392  26.743292  \n        2022-12-05 20:00:00 -0.102319   5.555556   9.130540  24.397075  \n        2022-12-05 20:15:00 -0.105412   8.163265   8.572940  25.403905  \n        2022-12-05 20:30:00 -0.106664  20.408163  11.375661  31.314339  \n        2022-12-05 20:45:00 -0.106476  34.883721  21.151717  35.874082  \n\n[1916 rows x 14 columns]",
      "text/html": "<div>\n<style scoped>\n    .dataframe tbody tr th:only-of-type {\n        vertical-align: middle;\n    }\n\n    .dataframe tbody tr th {\n        vertical-align: top;\n    }\n\n    .dataframe thead th {\n        text-align: right;\n    }\n</style>\n<table border=\"1\" class=\"dataframe\">\n  <thead>\n    <tr style=\"text-align: right;\">\n      <th></th>\n      <th></th>\n      <th>close</th>\n      <th>high</th>\n      <th>low</th>\n      <th>open</th>\n      <th>volume</th>\n      <th>ma50</th>\n      <th>ma200</th>\n      <th>vema24</th>\n      <th>macd_signal</th>\n      <th>macd_diff</th>\n      <th>macd</th>\n      <th>k</th>\n      <th>d</th>\n      <th>rsi</th>\n    </tr>\n    <tr>\n      <th>item_id</th>\n      <th>timestamp</th>\n      <th></th>\n      <th></th>\n      <th></th>\n      <th></th>\n      <th></th>\n      <th></th>\n      <th></th>\n      <th></th>\n      <th></th>\n      <th></th>\n      <th></th>\n      <th></th>\n      <th></th>\n      <th></th>\n    </tr>\n  </thead>\n  <tbody>\n    <tr>\n      <th rowspan=\"11\" valign=\"top\">SNAP</th>\n      <th>2022-08-29 13:30:00</th>\n      <td>10.675</td>\n      <td>10.830</td>\n      <td>10.475</td>\n      <td>10.475</td>\n      <td>28573.0</td>\n      <td>NaN</td>\n      <td>NaN</td>\n      <td>28573.000000</td>\n      <td>0.000000</td>\n      <td>0.000000</td>\n      <td>0.000000</td>\n      <td>NaN</td>\n      <td>NaN</td>\n      <td>NaN</td>\n    </tr>\n    <tr>\n      <th>2022-08-29 13:45:00</th>\n      <td>10.650</td>\n      <td>10.765</td>\n      <td>10.570</td>\n      <td>10.675</td>\n      <td>27295.0</td>\n      <td>NaN</td>\n      <td>NaN</td>\n      <td>27907.375000</td>\n      <td>-0.000139</td>\n      <td>-0.000125</td>\n      <td>-0.000264</td>\n      <td>NaN</td>\n      <td>NaN</td>\n      <td>NaN</td>\n    </tr>\n    <tr>\n      <th>2022-08-29 14:00:00</th>\n      <td>10.605</td>\n      <td>10.695</td>\n      <td>10.570</td>\n      <td>10.650</td>\n      <td>50528.0</td>\n      <td>NaN</td>\n      <td>NaN</td>\n      <td>36084.292655</td>\n      <td>-0.000453</td>\n      <td>-0.000537</td>\n      <td>-0.000991</td>\n      <td>NaN</td>\n      <td>NaN</td>\n      <td>NaN</td>\n    </tr>\n    <tr>\n      <th>2022-08-29 14:15:00</th>\n      <td>10.600</td>\n      <td>10.695</td>\n      <td>10.590</td>\n      <td>10.605</td>\n      <td>29323.0</td>\n      <td>NaN</td>\n      <td>NaN</td>\n      <td>34177.064215</td>\n      <td>-0.000732</td>\n      <td>-0.000679</td>\n      <td>-0.001411</td>\n      <td>NaN</td>\n      <td>NaN</td>\n      <td>NaN</td>\n    </tr>\n    <tr>\n      <th>2022-08-29 14:30:00</th>\n      <td>10.515</td>\n      <td>10.680</td>\n      <td>10.475</td>\n      <td>10.600</td>\n      <td>21444.0</td>\n      <td>NaN</td>\n      <td>NaN</td>\n      <td>31189.120743</td>\n      <td>-0.001324</td>\n      <td>-0.001833</td>\n      <td>-0.003156</td>\n      <td>NaN</td>\n      <td>NaN</td>\n      <td>NaN</td>\n    </tr>\n    <tr>\n      <th>...</th>\n      <td>...</td>\n      <td>...</td>\n      <td>...</td>\n      <td>...</td>\n      <td>...</td>\n      <td>...</td>\n      <td>...</td>\n      <td>...</td>\n      <td>...</td>\n      <td>...</td>\n      <td>...</td>\n      <td>...</td>\n      <td>...</td>\n      <td>...</td>\n    </tr>\n    <tr>\n      <th>2022-12-05 19:45:00</th>\n      <td>10.085</td>\n      <td>10.115</td>\n      <td>10.060</td>\n      <td>10.090</td>\n      <td>10286.0</td>\n      <td>10.4126</td>\n      <td>10.207850</td>\n      <td>12192.257387</td>\n      <td>-0.051496</td>\n      <td>-0.046792</td>\n      <td>-0.098288</td>\n      <td>12.000000</td>\n      <td>10.982392</td>\n      <td>26.743292</td>\n    </tr>\n    <tr>\n      <th>2022-12-05 20:00:00</th>\n      <td>10.050</td>\n      <td>10.140</td>\n      <td>10.035</td>\n      <td>10.085</td>\n      <td>20971.0</td>\n      <td>10.3960</td>\n      <td>10.206475</td>\n      <td>12894.556796</td>\n      <td>-0.056578</td>\n      <td>-0.045741</td>\n      <td>-0.102319</td>\n      <td>5.555556</td>\n      <td>9.130540</td>\n      <td>24.397075</td>\n    </tr>\n    <tr>\n      <th>2022-12-05 20:15:00</th>\n      <td>10.055</td>\n      <td>10.070</td>\n      <td>10.035</td>\n      <td>10.050</td>\n      <td>27479.0</td>\n      <td>10.3861</td>\n      <td>10.205125</td>\n      <td>14061.312252</td>\n      <td>-0.061461</td>\n      <td>-0.043950</td>\n      <td>-0.105412</td>\n      <td>8.163265</td>\n      <td>8.572940</td>\n      <td>25.403905</td>\n    </tr>\n    <tr>\n      <th>2022-12-05 20:30:00</th>\n      <td>10.085</td>\n      <td>10.115</td>\n      <td>10.055</td>\n      <td>10.055</td>\n      <td>24172.0</td>\n      <td>10.3781</td>\n      <td>10.203925</td>\n      <td>14870.167272</td>\n      <td>-0.065982</td>\n      <td>-0.040682</td>\n      <td>-0.106664</td>\n      <td>20.408163</td>\n      <td>11.375661</td>\n      <td>31.314339</td>\n    </tr>\n    <tr>\n      <th>2022-12-05 20:45:00</th>\n      <td>10.110</td>\n      <td>10.115</td>\n      <td>10.060</td>\n      <td>10.085</td>\n      <td>69066.0</td>\n      <td>10.3662</td>\n      <td>10.202850</td>\n      <td>19205.833890</td>\n      <td>-0.070031</td>\n      <td>-0.036445</td>\n      <td>-0.106476</td>\n      <td>34.883721</td>\n      <td>21.151717</td>\n      <td>35.874082</td>\n    </tr>\n  </tbody>\n</table>\n<p>1916 rows × 14 columns</p>\n</div>"
     },
     "execution_count": 10,
     "metadata": {},
     "output_type": "execute_result"
    }
   ],
   "source": [
    "ts_dataframe = TimeSeriesDataFrame.from_data_frame(\n",
    "    df,\n",
    "    id_column=\"symbol\",\n",
    "    timestamp_column='date',\n",
    ")\n",
    "ts_dataframe"
   ],
   "metadata": {
    "collapsed": false
   }
  },
  {
   "cell_type": "code",
   "execution_count": 11,
   "outputs": [
    {
     "data": {
      "text/plain": "                       date   close    high     low    open   volume symbol  \\\nitem_id                                                                       \n0       2022-08-29 13:30:00  10.675  10.830  10.475  10.475  28573.0   SNAP   \n1       2022-08-29 13:45:00  10.650  10.765  10.570  10.675  27295.0   SNAP   \n2       2022-08-29 14:00:00  10.605  10.695  10.570  10.650  50528.0   SNAP   \n3       2022-08-29 14:15:00  10.600  10.695  10.590  10.605  29323.0   SNAP   \n4       2022-08-29 14:30:00  10.515  10.680  10.475  10.600  21444.0   SNAP   \n...                     ...     ...     ...     ...     ...      ...    ...   \n1911    2022-12-05 19:45:00  10.085  10.115  10.060  10.090  10286.0   SNAP   \n1912    2022-12-05 20:00:00  10.050  10.140  10.035  10.085  20971.0   SNAP   \n1913    2022-12-05 20:15:00  10.055  10.070  10.035  10.050  27479.0   SNAP   \n1914    2022-12-05 20:30:00  10.085  10.115  10.055  10.055  24172.0   SNAP   \n1915    2022-12-05 20:45:00  10.110  10.115  10.060  10.085  69066.0   SNAP   \n\n            ma50      ma200        vema24  macd_signal  macd_diff      macd  \\\nitem_id                                                                       \n0            NaN        NaN  28573.000000     0.000000   0.000000  0.000000   \n1            NaN        NaN  27907.375000    -0.000139  -0.000125 -0.000264   \n2            NaN        NaN  36084.292655    -0.000453  -0.000537 -0.000991   \n3            NaN        NaN  34177.064215    -0.000732  -0.000679 -0.001411   \n4            NaN        NaN  31189.120743    -0.001324  -0.001833 -0.003156   \n...          ...        ...           ...          ...        ...       ...   \n1911     10.4126  10.207850  12192.257387    -0.051496  -0.046792 -0.098288   \n1912     10.3960  10.206475  12894.556796    -0.056578  -0.045741 -0.102319   \n1913     10.3861  10.205125  14061.312252    -0.061461  -0.043950 -0.105412   \n1914     10.3781  10.203925  14870.167272    -0.065982  -0.040682 -0.106664   \n1915     10.3662  10.202850  19205.833890    -0.070031  -0.036445 -0.106476   \n\n                 k          d        rsi  \nitem_id                                   \n0              NaN        NaN        NaN  \n1              NaN        NaN        NaN  \n2              NaN        NaN        NaN  \n3              NaN        NaN        NaN  \n4              NaN        NaN        NaN  \n...            ...        ...        ...  \n1911     12.000000  10.982392  26.743292  \n1912      5.555556   9.130540  24.397075  \n1913      8.163265   8.572940  25.403905  \n1914     20.408163  11.375661  31.314339  \n1915     34.883721  21.151717  35.874082  \n\n[1916 rows x 16 columns]",
      "text/html": "<div>\n<style scoped>\n    .dataframe tbody tr th:only-of-type {\n        vertical-align: middle;\n    }\n\n    .dataframe tbody tr th {\n        vertical-align: top;\n    }\n\n    .dataframe thead th {\n        text-align: right;\n    }\n</style>\n<table border=\"1\" class=\"dataframe\">\n  <thead>\n    <tr style=\"text-align: right;\">\n      <th></th>\n      <th>date</th>\n      <th>close</th>\n      <th>high</th>\n      <th>low</th>\n      <th>open</th>\n      <th>volume</th>\n      <th>symbol</th>\n      <th>ma50</th>\n      <th>ma200</th>\n      <th>vema24</th>\n      <th>macd_signal</th>\n      <th>macd_diff</th>\n      <th>macd</th>\n      <th>k</th>\n      <th>d</th>\n      <th>rsi</th>\n    </tr>\n    <tr>\n      <th>item_id</th>\n      <th></th>\n      <th></th>\n      <th></th>\n      <th></th>\n      <th></th>\n      <th></th>\n      <th></th>\n      <th></th>\n      <th></th>\n      <th></th>\n      <th></th>\n      <th></th>\n      <th></th>\n      <th></th>\n      <th></th>\n      <th></th>\n    </tr>\n  </thead>\n  <tbody>\n    <tr>\n      <th>0</th>\n      <td>2022-08-29 13:30:00</td>\n      <td>10.675</td>\n      <td>10.830</td>\n      <td>10.475</td>\n      <td>10.475</td>\n      <td>28573.0</td>\n      <td>SNAP</td>\n      <td>NaN</td>\n      <td>NaN</td>\n      <td>28573.000000</td>\n      <td>0.000000</td>\n      <td>0.000000</td>\n      <td>0.000000</td>\n      <td>NaN</td>\n      <td>NaN</td>\n      <td>NaN</td>\n    </tr>\n    <tr>\n      <th>1</th>\n      <td>2022-08-29 13:45:00</td>\n      <td>10.650</td>\n      <td>10.765</td>\n      <td>10.570</td>\n      <td>10.675</td>\n      <td>27295.0</td>\n      <td>SNAP</td>\n      <td>NaN</td>\n      <td>NaN</td>\n      <td>27907.375000</td>\n      <td>-0.000139</td>\n      <td>-0.000125</td>\n      <td>-0.000264</td>\n      <td>NaN</td>\n      <td>NaN</td>\n      <td>NaN</td>\n    </tr>\n    <tr>\n      <th>2</th>\n      <td>2022-08-29 14:00:00</td>\n      <td>10.605</td>\n      <td>10.695</td>\n      <td>10.570</td>\n      <td>10.650</td>\n      <td>50528.0</td>\n      <td>SNAP</td>\n      <td>NaN</td>\n      <td>NaN</td>\n      <td>36084.292655</td>\n      <td>-0.000453</td>\n      <td>-0.000537</td>\n      <td>-0.000991</td>\n      <td>NaN</td>\n      <td>NaN</td>\n      <td>NaN</td>\n    </tr>\n    <tr>\n      <th>3</th>\n      <td>2022-08-29 14:15:00</td>\n      <td>10.600</td>\n      <td>10.695</td>\n      <td>10.590</td>\n      <td>10.605</td>\n      <td>29323.0</td>\n      <td>SNAP</td>\n      <td>NaN</td>\n      <td>NaN</td>\n      <td>34177.064215</td>\n      <td>-0.000732</td>\n      <td>-0.000679</td>\n      <td>-0.001411</td>\n      <td>NaN</td>\n      <td>NaN</td>\n      <td>NaN</td>\n    </tr>\n    <tr>\n      <th>4</th>\n      <td>2022-08-29 14:30:00</td>\n      <td>10.515</td>\n      <td>10.680</td>\n      <td>10.475</td>\n      <td>10.600</td>\n      <td>21444.0</td>\n      <td>SNAP</td>\n      <td>NaN</td>\n      <td>NaN</td>\n      <td>31189.120743</td>\n      <td>-0.001324</td>\n      <td>-0.001833</td>\n      <td>-0.003156</td>\n      <td>NaN</td>\n      <td>NaN</td>\n      <td>NaN</td>\n    </tr>\n    <tr>\n      <th>...</th>\n      <td>...</td>\n      <td>...</td>\n      <td>...</td>\n      <td>...</td>\n      <td>...</td>\n      <td>...</td>\n      <td>...</td>\n      <td>...</td>\n      <td>...</td>\n      <td>...</td>\n      <td>...</td>\n      <td>...</td>\n      <td>...</td>\n      <td>...</td>\n      <td>...</td>\n      <td>...</td>\n    </tr>\n    <tr>\n      <th>1911</th>\n      <td>2022-12-05 19:45:00</td>\n      <td>10.085</td>\n      <td>10.115</td>\n      <td>10.060</td>\n      <td>10.090</td>\n      <td>10286.0</td>\n      <td>SNAP</td>\n      <td>10.4126</td>\n      <td>10.207850</td>\n      <td>12192.257387</td>\n      <td>-0.051496</td>\n      <td>-0.046792</td>\n      <td>-0.098288</td>\n      <td>12.000000</td>\n      <td>10.982392</td>\n      <td>26.743292</td>\n    </tr>\n    <tr>\n      <th>1912</th>\n      <td>2022-12-05 20:00:00</td>\n      <td>10.050</td>\n      <td>10.140</td>\n      <td>10.035</td>\n      <td>10.085</td>\n      <td>20971.0</td>\n      <td>SNAP</td>\n      <td>10.3960</td>\n      <td>10.206475</td>\n      <td>12894.556796</td>\n      <td>-0.056578</td>\n      <td>-0.045741</td>\n      <td>-0.102319</td>\n      <td>5.555556</td>\n      <td>9.130540</td>\n      <td>24.397075</td>\n    </tr>\n    <tr>\n      <th>1913</th>\n      <td>2022-12-05 20:15:00</td>\n      <td>10.055</td>\n      <td>10.070</td>\n      <td>10.035</td>\n      <td>10.050</td>\n      <td>27479.0</td>\n      <td>SNAP</td>\n      <td>10.3861</td>\n      <td>10.205125</td>\n      <td>14061.312252</td>\n      <td>-0.061461</td>\n      <td>-0.043950</td>\n      <td>-0.105412</td>\n      <td>8.163265</td>\n      <td>8.572940</td>\n      <td>25.403905</td>\n    </tr>\n    <tr>\n      <th>1914</th>\n      <td>2022-12-05 20:30:00</td>\n      <td>10.085</td>\n      <td>10.115</td>\n      <td>10.055</td>\n      <td>10.055</td>\n      <td>24172.0</td>\n      <td>SNAP</td>\n      <td>10.3781</td>\n      <td>10.203925</td>\n      <td>14870.167272</td>\n      <td>-0.065982</td>\n      <td>-0.040682</td>\n      <td>-0.106664</td>\n      <td>20.408163</td>\n      <td>11.375661</td>\n      <td>31.314339</td>\n    </tr>\n    <tr>\n      <th>1915</th>\n      <td>2022-12-05 20:45:00</td>\n      <td>10.110</td>\n      <td>10.115</td>\n      <td>10.060</td>\n      <td>10.085</td>\n      <td>69066.0</td>\n      <td>SNAP</td>\n      <td>10.3662</td>\n      <td>10.202850</td>\n      <td>19205.833890</td>\n      <td>-0.070031</td>\n      <td>-0.036445</td>\n      <td>-0.106476</td>\n      <td>34.883721</td>\n      <td>21.151717</td>\n      <td>35.874082</td>\n    </tr>\n  </tbody>\n</table>\n<p>1916 rows × 16 columns</p>\n</div>"
     },
     "execution_count": 11,
     "metadata": {},
     "output_type": "execute_result"
    }
   ],
   "source": [
    "static_features = df\n",
    "static_features.index.rename(\"item_id\", inplace=True)\n",
    "static_features"
   ],
   "metadata": {
    "collapsed": false
   }
  },
  {
   "cell_type": "code",
   "execution_count": 13,
   "outputs": [
    {
     "name": "stderr",
     "output_type": "stream",
     "text": [
      "================ TimeSeriesPredictor ================\n",
      "TimeSeriesPredictor.fit() called\n",
      "Fitting with arguments:\n",
      "{'enable_ensemble': True,\n",
      " 'evaluation_metric': None,\n",
      " 'hyperparameter_tune_kwargs': None,\n",
      " 'hyperparameters': 'default',\n",
      " 'prediction_length': 1,\n",
      " 'random_seed': None,\n",
      " 'target': 'close',\n",
      " 'time_limit': None}\n",
      "Provided training data set with 1916 rows, 1 items (item = single time series). Average time series length is 1916.0.\n",
      "Training artifacts will be saved to: /Users/erahkee/PycharmProjects/BayesianLSTM-master/AutogluonModels/ag-20221205_212033\n",
      "=====================================================\n",
      "AutoGluon will save models to AutogluonModels/ag-20221205_212033/\n",
      "AutoGluon will gauge predictive performance using evaluation metric: 'mean_wQuantileLoss'\n",
      "\tThis metric's sign has been flipped to adhere to being 'higher is better'. The reported score can be multiplied by -1 to get the metric value.\n",
      "Provided columns ['rsi', 'open', 'low', 'high', 'macd_diff', 'ma50', 'vema24', 'ma200', 'macd', 'volume', 'd', 'macd_signal', 'k'] in train_data will be ignored.\n",
      "tuning_data is None. Will use the last prediction_length = 1 time steps of each time series as a hold-out validation set.\n",
      "\n",
      "Starting training. Start time is 2022-12-05 22:20:33\n",
      "No path specified. Models will be saved in: \"AutogluonModels/ag-20221205_212033-001/\"\n",
      "Models that will be trained: ['Naive', 'SeasonalNaive', 'ETS', 'Theta', 'ARIMA', 'AutoGluonTabular', 'DeepAR']\n",
      "Training timeseries model Naive. \n",
      "\t-0.0032       = Validation score (-mean_wQuantileLoss)\n",
      "\t0.00    s     = Training runtime\n",
      "\t2.80    s     = Validation (prediction) runtime\n",
      "Training timeseries model SeasonalNaive. \n",
      "\t-0.0032       = Validation score (-mean_wQuantileLoss)\n",
      "\t0.00    s     = Training runtime\n",
      "\t2.31    s     = Validation (prediction) runtime\n",
      "Training timeseries model ETS. \n",
      "ETS with seasonal = add requires seasonal_period > 1 (received seasonal_period = 1). Disabling seasonality.\n",
      "\t-0.0032       = Validation score (-mean_wQuantileLoss)\n",
      "\t0.00    s     = Training runtime\n",
      "\t2.37    s     = Validation (prediction) runtime\n",
      "Training timeseries model Theta. \n",
      "\t-0.0032       = Validation score (-mean_wQuantileLoss)\n",
      "\t0.00    s     = Training runtime\n",
      "\t0.14    s     = Validation (prediction) runtime\n",
      "Training timeseries model ARIMA. \n",
      "\t-0.0032       = Validation score (-mean_wQuantileLoss)\n",
      "\t0.00    s     = Training runtime\n",
      "\t0.12    s     = Validation (prediction) runtime\n",
      "Training timeseries model AutoGluonTabular. \n",
      "\t-0.0027       = Validation score (-mean_wQuantileLoss)\n",
      "\t6.99    s     = Training runtime\n",
      "\t0.02    s     = Validation (prediction) runtime\n",
      "Training timeseries model DeepAR. \n",
      "\t-0.0020       = Validation score (-mean_wQuantileLoss)\n",
      "\t44.32   s     = Training runtime\n",
      "\t0.01    s     = Validation (prediction) runtime\n",
      "Fitting simple weighted ensemble.\n",
      "\t-0.0018       = Validation score (-mean_wQuantileLoss)\n",
      "\t3.26    s     = Training runtime\n",
      "\t0.01    s     = Validation (prediction) runtime\n",
      "Training complete. Models trained: ['Naive', 'SeasonalNaive', 'ETS', 'Theta', 'ARIMA', 'AutoGluonTabular', 'DeepAR', 'WeightedEnsemble']\n",
      "Total runtime: 62.43 s\n",
      "Best model: WeightedEnsemble\n",
      "Best model score: -0.0018\n"
     ]
    }
   ],
   "source": [
    "predictor = TimeSeriesPredictor(target=\"close\", ignore_time_index=True).fit(ts_dataframe)"
   ],
   "metadata": {
    "collapsed": false
   }
  },
  {
   "cell_type": "code",
   "execution_count": null,
   "outputs": [],
   "source": [
    "\n"
   ],
   "metadata": {
    "collapsed": false
   }
  },
  {
   "cell_type": "code",
   "execution_count": null,
   "outputs": [],
   "source": [
    "def calc_plot_data(df, indicators):\n",
    "    '''Returns data for all plots and for the price line.'''\n",
    "    price = df['Open Close High Low'.split()]\n",
    "    volume = df['Open Close Volume'.split()]\n",
    "    ma50 = ma200 = vema24 = sar = rsi = stoch = stoch_s = macd = macd_signal = macd_diff = None\n",
    "    if 'few' in indicators or 'moar' in indicators:\n",
    "        ma50 = price.Close.rolling(50).mean()\n",
    "        ma200 = price.Close.rolling(200).mean()\n",
    "        vema24 = volume.Volume.ewm(span=24).mean()\n",
    "    if 'moar' in indicators:\n",
    "        sar = calc_parabolic_sar(df)\n",
    "        rsi = calc_rsi(df.Close)\n",
    "        stoch, stoch_s = calc_stochastic_oscillator(df)\n",
    "        macd, macd_signal, macd_diff = calc_macd(df)\n",
    "    plot_data = dict(price=price, volume=volume, ma50=ma50, ma200=ma200, vema24=vema24, sar=sar, rsi=rsi,\n",
    "                     stoch=stoch, stoch_s=stoch_s, macd=macd, macd_signal=macd_signal, macd_diff=macd_diff)\n",
    "    # for price line\n",
    "    last_close = price.iloc[-1].Close\n",
    "    last_col = fplt.candle_bull_color if last_close > price.iloc[-2].Close else fplt.candle_bear_color\n",
    "    price_data = dict(last_close=last_close, last_col=last_col)\n",
    "    return plot_data, price_data"
   ],
   "metadata": {
    "collapsed": false
   }
  },
  {
   "cell_type": "markdown",
   "source": [],
   "metadata": {
    "collapsed": false
   }
  },
  {
   "cell_type": "markdown",
   "source": [],
   "metadata": {
    "collapsed": false
   }
  },
  {
   "cell_type": "markdown",
   "source": [],
   "metadata": {
    "collapsed": false
   }
  }
 ],
 "metadata": {
  "kernelspec": {
   "display_name": "Python 3",
   "language": "python",
   "name": "python3"
  },
  "language_info": {
   "codemirror_mode": {
    "name": "ipython",
    "version": 2
   },
   "file_extension": ".py",
   "mimetype": "text/x-python",
   "name": "python",
   "nbconvert_exporter": "python",
   "pygments_lexer": "ipython2",
   "version": "2.7.6"
  }
 },
 "nbformat": 4,
 "nbformat_minor": 0
}
